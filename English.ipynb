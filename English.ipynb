{
 "cells": [
  {
   "cell_type": "code",
   "execution_count": 1,
   "id": "13a892fe",
   "metadata": {},
   "outputs": [],
   "source": [
    "import pandas as pd\n",
    "import numpy as np\n",
    "import matplotlib.pyplot as plt\n",
    "%matplotlib inline\n",
    "import seaborn as sns\n",
    "import tensorflow as tf"
   ]
  },
  {
   "cell_type": "code",
   "execution_count": 2,
   "id": "1fdee95a",
   "metadata": {},
   "outputs": [
    {
     "data": {
      "text/html": [
       "<div>\n",
       "<style scoped>\n",
       "    .dataframe tbody tr th:only-of-type {\n",
       "        vertical-align: middle;\n",
       "    }\n",
       "\n",
       "    .dataframe tbody tr th {\n",
       "        vertical-align: top;\n",
       "    }\n",
       "\n",
       "    .dataframe thead th {\n",
       "        text-align: right;\n",
       "    }\n",
       "</style>\n",
       "<table border=\"1\" class=\"dataframe\">\n",
       "  <thead>\n",
       "    <tr style=\"text-align: right;\">\n",
       "      <th></th>\n",
       "      <th>text_id</th>\n",
       "      <th>full_text</th>\n",
       "      <th>cohesion</th>\n",
       "      <th>syntax</th>\n",
       "      <th>vocabulary</th>\n",
       "      <th>phraseology</th>\n",
       "      <th>grammar</th>\n",
       "      <th>conventions</th>\n",
       "    </tr>\n",
       "  </thead>\n",
       "  <tbody>\n",
       "    <tr>\n",
       "      <th>0</th>\n",
       "      <td>0016926B079C</td>\n",
       "      <td>I think that students would benefit from learn...</td>\n",
       "      <td>3.5</td>\n",
       "      <td>3.5</td>\n",
       "      <td>3.0</td>\n",
       "      <td>3.0</td>\n",
       "      <td>4.0</td>\n",
       "      <td>3.0</td>\n",
       "    </tr>\n",
       "    <tr>\n",
       "      <th>1</th>\n",
       "      <td>0022683E9EA5</td>\n",
       "      <td>When a problem is a change you have to let it ...</td>\n",
       "      <td>2.5</td>\n",
       "      <td>2.5</td>\n",
       "      <td>3.0</td>\n",
       "      <td>2.0</td>\n",
       "      <td>2.0</td>\n",
       "      <td>2.5</td>\n",
       "    </tr>\n",
       "    <tr>\n",
       "      <th>2</th>\n",
       "      <td>00299B378633</td>\n",
       "      <td>Dear, Principal\\n\\nIf u change the school poli...</td>\n",
       "      <td>3.0</td>\n",
       "      <td>3.5</td>\n",
       "      <td>3.0</td>\n",
       "      <td>3.0</td>\n",
       "      <td>3.0</td>\n",
       "      <td>2.5</td>\n",
       "    </tr>\n",
       "    <tr>\n",
       "      <th>3</th>\n",
       "      <td>003885A45F42</td>\n",
       "      <td>The best time in life is when you become yours...</td>\n",
       "      <td>4.5</td>\n",
       "      <td>4.5</td>\n",
       "      <td>4.5</td>\n",
       "      <td>4.5</td>\n",
       "      <td>4.0</td>\n",
       "      <td>5.0</td>\n",
       "    </tr>\n",
       "    <tr>\n",
       "      <th>4</th>\n",
       "      <td>0049B1DF5CCC</td>\n",
       "      <td>Small act of kindness can impact in other peop...</td>\n",
       "      <td>2.5</td>\n",
       "      <td>3.0</td>\n",
       "      <td>3.0</td>\n",
       "      <td>3.0</td>\n",
       "      <td>2.5</td>\n",
       "      <td>2.5</td>\n",
       "    </tr>\n",
       "  </tbody>\n",
       "</table>\n",
       "</div>"
      ],
      "text/plain": [
       "        text_id                                          full_text  cohesion  \\\n",
       "0  0016926B079C  I think that students would benefit from learn...       3.5   \n",
       "1  0022683E9EA5  When a problem is a change you have to let it ...       2.5   \n",
       "2  00299B378633  Dear, Principal\\n\\nIf u change the school poli...       3.0   \n",
       "3  003885A45F42  The best time in life is when you become yours...       4.5   \n",
       "4  0049B1DF5CCC  Small act of kindness can impact in other peop...       2.5   \n",
       "\n",
       "   syntax  vocabulary  phraseology  grammar  conventions  \n",
       "0     3.5         3.0          3.0      4.0          3.0  \n",
       "1     2.5         3.0          2.0      2.0          2.5  \n",
       "2     3.5         3.0          3.0      3.0          2.5  \n",
       "3     4.5         4.5          4.5      4.0          5.0  \n",
       "4     3.0         3.0          3.0      2.5          2.5  "
      ]
     },
     "execution_count": 2,
     "metadata": {},
     "output_type": "execute_result"
    }
   ],
   "source": [
    "train_df = pd.read_csv('english.csv')\n",
    "train_df.head()"
   ]
  },
  {
   "cell_type": "code",
   "execution_count": 3,
   "id": "3557c388",
   "metadata": {},
   "outputs": [
    {
     "name": "stdout",
     "output_type": "stream",
     "text": [
      "<class 'pandas.core.frame.DataFrame'>\n",
      "RangeIndex: 3911 entries, 0 to 3910\n",
      "Data columns (total 8 columns):\n",
      " #   Column       Non-Null Count  Dtype  \n",
      "---  ------       --------------  -----  \n",
      " 0   text_id      3911 non-null   object \n",
      " 1   full_text    3911 non-null   object \n",
      " 2   cohesion     3911 non-null   float64\n",
      " 3   syntax       3911 non-null   float64\n",
      " 4   vocabulary   3911 non-null   float64\n",
      " 5   phraseology  3911 non-null   float64\n",
      " 6   grammar      3911 non-null   float64\n",
      " 7   conventions  3911 non-null   float64\n",
      "dtypes: float64(6), object(2)\n",
      "memory usage: 244.6+ KB\n"
     ]
    }
   ],
   "source": [
    "train_df.info()"
   ]
  },
  {
   "cell_type": "code",
   "execution_count": 4,
   "id": "da707037",
   "metadata": {},
   "outputs": [
    {
     "data": {
      "text/html": [
       "<style type=\"text/css\">\n",
       "#T_43b15_row0_col0, #T_43b15_row0_col3, #T_43b15_row0_col4, #T_43b15_row0_col5, #T_43b15_row0_col6, #T_43b15_row0_col7, #T_43b15_row1_col0, #T_43b15_row1_col1, #T_43b15_row1_col3, #T_43b15_row1_col4, #T_43b15_row1_col5, #T_43b15_row1_col6, #T_43b15_row1_col7, #T_43b15_row2_col0, #T_43b15_row2_col2, #T_43b15_row2_col3, #T_43b15_row2_col5, #T_43b15_row2_col6, #T_43b15_row2_col7, #T_43b15_row3_col0, #T_43b15_row3_col3, #T_43b15_row3_col4, #T_43b15_row3_col5, #T_43b15_row3_col6, #T_43b15_row3_col7, #T_43b15_row4_col0, #T_43b15_row4_col3, #T_43b15_row4_col4, #T_43b15_row4_col5, #T_43b15_row4_col6, #T_43b15_row4_col7, #T_43b15_row5_col0, #T_43b15_row5_col3, #T_43b15_row5_col4, #T_43b15_row5_col5, #T_43b15_row5_col6, #T_43b15_row5_col7 {\n",
       "  background-color: #f7fbff;\n",
       "  color: #000000;\n",
       "}\n",
       "#T_43b15_row0_col1 {\n",
       "  background-color: #75b4d8;\n",
       "  color: #000000;\n",
       "}\n",
       "#T_43b15_row0_col2 {\n",
       "  background-color: #3383be;\n",
       "  color: #f1f1f1;\n",
       "}\n",
       "#T_43b15_row1_col2 {\n",
       "  background-color: #63a8d3;\n",
       "  color: #f1f1f1;\n",
       "}\n",
       "#T_43b15_row2_col1, #T_43b15_row2_col4, #T_43b15_row4_col2 {\n",
       "  background-color: #08306b;\n",
       "  color: #f1f1f1;\n",
       "}\n",
       "#T_43b15_row3_col1 {\n",
       "  background-color: #89bedc;\n",
       "  color: #000000;\n",
       "}\n",
       "#T_43b15_row3_col2 {\n",
       "  background-color: #4292c6;\n",
       "  color: #f1f1f1;\n",
       "}\n",
       "#T_43b15_row4_col1 {\n",
       "  background-color: #f3f8fe;\n",
       "  color: #000000;\n",
       "}\n",
       "#T_43b15_row5_col1 {\n",
       "  background-color: #c4daee;\n",
       "  color: #000000;\n",
       "}\n",
       "#T_43b15_row5_col2 {\n",
       "  background-color: #206fb4;\n",
       "  color: #f1f1f1;\n",
       "}\n",
       "</style>\n",
       "<table id=\"T_43b15\">\n",
       "  <thead>\n",
       "    <tr>\n",
       "      <th class=\"blank level0\" >&nbsp;</th>\n",
       "      <th id=\"T_43b15_level0_col0\" class=\"col_heading level0 col0\" >count</th>\n",
       "      <th id=\"T_43b15_level0_col1\" class=\"col_heading level0 col1\" >mean</th>\n",
       "      <th id=\"T_43b15_level0_col2\" class=\"col_heading level0 col2\" >std</th>\n",
       "      <th id=\"T_43b15_level0_col3\" class=\"col_heading level0 col3\" >min</th>\n",
       "      <th id=\"T_43b15_level0_col4\" class=\"col_heading level0 col4\" >25%</th>\n",
       "      <th id=\"T_43b15_level0_col5\" class=\"col_heading level0 col5\" >50%</th>\n",
       "      <th id=\"T_43b15_level0_col6\" class=\"col_heading level0 col6\" >75%</th>\n",
       "      <th id=\"T_43b15_level0_col7\" class=\"col_heading level0 col7\" >max</th>\n",
       "    </tr>\n",
       "  </thead>\n",
       "  <tbody>\n",
       "    <tr>\n",
       "      <th id=\"T_43b15_level0_row0\" class=\"row_heading level0 row0\" >cohesion</th>\n",
       "      <td id=\"T_43b15_row0_col0\" class=\"data row0 col0\" >3911.000000</td>\n",
       "      <td id=\"T_43b15_row0_col1\" class=\"data row0 col1\" >3.127077</td>\n",
       "      <td id=\"T_43b15_row0_col2\" class=\"data row0 col2\" >0.662542</td>\n",
       "      <td id=\"T_43b15_row0_col3\" class=\"data row0 col3\" >1.000000</td>\n",
       "      <td id=\"T_43b15_row0_col4\" class=\"data row0 col4\" >2.500000</td>\n",
       "      <td id=\"T_43b15_row0_col5\" class=\"data row0 col5\" >3.000000</td>\n",
       "      <td id=\"T_43b15_row0_col6\" class=\"data row0 col6\" >3.500000</td>\n",
       "      <td id=\"T_43b15_row0_col7\" class=\"data row0 col7\" >5.000000</td>\n",
       "    </tr>\n",
       "    <tr>\n",
       "      <th id=\"T_43b15_level0_row1\" class=\"row_heading level0 row1\" >syntax</th>\n",
       "      <td id=\"T_43b15_row1_col0\" class=\"data row1 col0\" >3911.000000</td>\n",
       "      <td id=\"T_43b15_row1_col1\" class=\"data row1 col1\" >3.028254</td>\n",
       "      <td id=\"T_43b15_row1_col2\" class=\"data row1 col2\" >0.644399</td>\n",
       "      <td id=\"T_43b15_row1_col3\" class=\"data row1 col3\" >1.000000</td>\n",
       "      <td id=\"T_43b15_row1_col4\" class=\"data row1 col4\" >2.500000</td>\n",
       "      <td id=\"T_43b15_row1_col5\" class=\"data row1 col5\" >3.000000</td>\n",
       "      <td id=\"T_43b15_row1_col6\" class=\"data row1 col6\" >3.500000</td>\n",
       "      <td id=\"T_43b15_row1_col7\" class=\"data row1 col7\" >5.000000</td>\n",
       "    </tr>\n",
       "    <tr>\n",
       "      <th id=\"T_43b15_level0_row2\" class=\"row_heading level0 row2\" >vocabulary</th>\n",
       "      <td id=\"T_43b15_row2_col0\" class=\"data row2 col0\" >3911.000000</td>\n",
       "      <td id=\"T_43b15_row2_col1\" class=\"data row2 col1\" >3.235745</td>\n",
       "      <td id=\"T_43b15_row2_col2\" class=\"data row2 col2\" >0.583148</td>\n",
       "      <td id=\"T_43b15_row2_col3\" class=\"data row2 col3\" >1.000000</td>\n",
       "      <td id=\"T_43b15_row2_col4\" class=\"data row2 col4\" >3.000000</td>\n",
       "      <td id=\"T_43b15_row2_col5\" class=\"data row2 col5\" >3.000000</td>\n",
       "      <td id=\"T_43b15_row2_col6\" class=\"data row2 col6\" >3.500000</td>\n",
       "      <td id=\"T_43b15_row2_col7\" class=\"data row2 col7\" >5.000000</td>\n",
       "    </tr>\n",
       "    <tr>\n",
       "      <th id=\"T_43b15_level0_row3\" class=\"row_heading level0 row3\" >phraseology</th>\n",
       "      <td id=\"T_43b15_row3_col0\" class=\"data row3 col0\" >3911.000000</td>\n",
       "      <td id=\"T_43b15_row3_col1\" class=\"data row3 col1\" >3.116850</td>\n",
       "      <td id=\"T_43b15_row3_col2\" class=\"data row3 col2\" >0.655997</td>\n",
       "      <td id=\"T_43b15_row3_col3\" class=\"data row3 col3\" >1.000000</td>\n",
       "      <td id=\"T_43b15_row3_col4\" class=\"data row3 col4\" >2.500000</td>\n",
       "      <td id=\"T_43b15_row3_col5\" class=\"data row3 col5\" >3.000000</td>\n",
       "      <td id=\"T_43b15_row3_col6\" class=\"data row3 col6\" >3.500000</td>\n",
       "      <td id=\"T_43b15_row3_col7\" class=\"data row3 col7\" >5.000000</td>\n",
       "    </tr>\n",
       "    <tr>\n",
       "      <th id=\"T_43b15_level0_row4\" class=\"row_heading level0 row4\" >grammar</th>\n",
       "      <td id=\"T_43b15_row4_col0\" class=\"data row4 col0\" >3911.000000</td>\n",
       "      <td id=\"T_43b15_row4_col1\" class=\"data row4 col1\" >3.032856</td>\n",
       "      <td id=\"T_43b15_row4_col2\" class=\"data row4 col2\" >0.699841</td>\n",
       "      <td id=\"T_43b15_row4_col3\" class=\"data row4 col3\" >1.000000</td>\n",
       "      <td id=\"T_43b15_row4_col4\" class=\"data row4 col4\" >2.500000</td>\n",
       "      <td id=\"T_43b15_row4_col5\" class=\"data row4 col5\" >3.000000</td>\n",
       "      <td id=\"T_43b15_row4_col6\" class=\"data row4 col6\" >3.500000</td>\n",
       "      <td id=\"T_43b15_row4_col7\" class=\"data row4 col7\" >5.000000</td>\n",
       "    </tr>\n",
       "    <tr>\n",
       "      <th id=\"T_43b15_level0_row5\" class=\"row_heading level0 row5\" >conventions</th>\n",
       "      <td id=\"T_43b15_row5_col0\" class=\"data row5 col0\" >3911.000000</td>\n",
       "      <td id=\"T_43b15_row5_col1\" class=\"data row5 col1\" >3.081053</td>\n",
       "      <td id=\"T_43b15_row5_col2\" class=\"data row5 col2\" >0.671450</td>\n",
       "      <td id=\"T_43b15_row5_col3\" class=\"data row5 col3\" >1.000000</td>\n",
       "      <td id=\"T_43b15_row5_col4\" class=\"data row5 col4\" >2.500000</td>\n",
       "      <td id=\"T_43b15_row5_col5\" class=\"data row5 col5\" >3.000000</td>\n",
       "      <td id=\"T_43b15_row5_col6\" class=\"data row5 col6\" >3.500000</td>\n",
       "      <td id=\"T_43b15_row5_col7\" class=\"data row5 col7\" >5.000000</td>\n",
       "    </tr>\n",
       "  </tbody>\n",
       "</table>\n"
      ],
      "text/plain": [
       "<pandas.io.formats.style.Styler at 0x1db64cd1fd0>"
      ]
     },
     "execution_count": 4,
     "metadata": {},
     "output_type": "execute_result"
    }
   ],
   "source": [
    "train_df[['cohesion' , 'syntax' , 'vocabulary' , 'phraseology' , 'grammar' , 'conventions']].describe().T.style.background_gradient(cmap='Blues')"
   ]
  },
  {
   "cell_type": "code",
   "execution_count": 6,
   "id": "169bf11b",
   "metadata": {},
   "outputs": [
    {
     "data": {
      "text/plain": [
       "\"I think that students would benefit from learning at home,because they wont have to change and get up early in the morning to shower and do there hair. taking only classes helps them because at there house they'll be pay more attention. they will be comfortable at home.\\n\\nThe hardest part of school is getting ready. you wake up go brush your teeth and go to your closet and look at your cloths. after you think you picked a outfit u go look in the mirror and youll either not like it or you look and see a stain. Then you'll have to change. with the online classes you can wear anything and stay home and you wont need to stress about what to wear.\\n\\nmost students usually take showers before school. they either take it before they sleep or when they wake up. some students do both to smell good. that causes them do miss the bus and effects on there lesson time cause they come late to school. when u have online classes u wont need to miss lessons cause you can get everything set up and go take a shower and when u get out your ready to go.\\n\\nwhen your home your comfortable and you pay attention. it gives then an advantage to be smarter and even pass there classmates on class work. public schools are difficult even if you try. some teacher dont know how to teach it in then way that students understand it. that causes students to fail and they may repeat the class.              \""
      ]
     },
     "execution_count": 6,
     "metadata": {},
     "output_type": "execute_result"
    }
   ],
   "source": [
    "train_df['full_text'][0]"
   ]
  },
  {
   "cell_type": "code",
   "execution_count": 8,
   "id": "bcef64b2",
   "metadata": {},
   "outputs": [
    {
     "name": "stdout",
     "output_type": "stream",
     "text": [
      "1064587\n"
     ]
    }
   ],
   "source": [
    "import re\n",
    "\n",
    "text = train_df['full_text']\n",
    "\n",
    "text = text.str.lower()\n",
    "\n",
    "text = text.apply(lambda x : re.sub(\"[^a-z]\\s\",\"\",x) )\n",
    "\n",
    "text = text.str.replace(\"#\", \"\")\n",
    "\n",
    "text = text.apply(lambda x: ' '.join([w for w in x.split() if len(w)>2 and len(w)<8]))\n",
    "\n",
    "count_words = text.str.findall(r'(\\w+)').str.len()\n",
    "print(count_words.sum())"
   ]
  },
  {
   "cell_type": "code",
   "execution_count": 9,
   "id": "06adb926",
   "metadata": {},
   "outputs": [
    {
     "name": "stdout",
     "output_type": "stream",
     "text": [
      "the        52605\n",
      "and        39550\n",
      "you        34777\n",
      "that       28085\n",
      "they       23406\n",
      "have       20274\n",
      "can        18335\n",
      "for        16994\n",
      "are        14465\n",
      "not        13779\n",
      "because    13357\n",
      "people     12681\n",
      "with       11396\n",
      "will       11039\n",
      "your       10814\n",
      "school     10204\n",
      "their      10095\n",
      "more        8942\n",
      "what        8572\n",
      "get         8204\n",
      "good        8027\n",
      "like        7202\n",
      "time        7129\n",
      "work        6859\n",
      "want        6826\n",
      "dtype: int64\n",
      "660970\n"
     ]
    }
   ],
   "source": [
    "most_freq_words = pd.Series(' '.join(text).lower().split()).value_counts()[:25]\n",
    "text = text.apply(lambda x : \" \".join(word for word in x.split() if word not in most_freq_words ))\n",
    "print(most_freq_words)\n",
    "\n",
    "count_words = text.str.findall(r'(\\w+)').str.len()\n",
    "print(count_words.sum())"
   ]
  },
  {
   "cell_type": "code",
   "execution_count": 15,
   "id": "9846ce43",
   "metadata": {},
   "outputs": [],
   "source": [
    "import tensorflow as tf\n",
    "from tensorflow.keras.preprocessing.text import Tokenizer\n",
    "from tensorflow.keras.utils import pad_sequences\n",
    "\n",
    "X = train_df['full_text']\n",
    "y = np.array(train_df.iloc[:,2:])\n",
    "\n",
    "tokenizer = Tokenizer(num_words = 10000 , split = ' ')\n",
    "tokenizer.fit_on_texts(X.values)\n",
    "X = tokenizer.texts_to_sequences(X.values)\n",
    "X = pad_sequences(X)"
   ]
  },
  {
   "cell_type": "code",
   "execution_count": 17,
   "id": "17de18d1",
   "metadata": {},
   "outputs": [],
   "source": [
    "from sklearn.model_selection import train_test_splitain_test_split\n",
    "\n",
    "X_train,X_test,y_train,y_test = train_test_split(X, \n",
    "                                                 y, \n",
    "                                                 test_size=0.2)"
   ]
  },
  {
   "cell_type": "code",
   "execution_count": 13,
   "id": "7798b4ab",
   "metadata": {},
   "outputs": [
    {
     "data": {
      "text/plain": [
       "((3128, 1225), (783, 1225), (3128, 6), (783, 6))"
      ]
     },
     "execution_count": 13,
     "metadata": {},
     "output_type": "execute_result"
    }
   ],
   "source": [
    "X_train.shape , X_test.shape , y_train.shape , y_test.shape"
   ]
  },
  {
   "cell_type": "code",
   "execution_count": null,
   "id": "1e05645f",
   "metadata": {},
   "outputs": [],
   "source": []
  },
  {
   "cell_type": "code",
   "execution_count": null,
   "id": "e7bc5eb7",
   "metadata": {},
   "outputs": [],
   "source": []
  },
  {
   "cell_type": "code",
   "execution_count": 18,
   "id": "90c155e7",
   "metadata": {},
   "outputs": [
    {
     "name": "stdout",
     "output_type": "stream",
     "text": [
      "0.7329411565227023\n"
     ]
    }
   ],
   "source": [
    "from sklearn.multioutput import MultiOutputRegressor\n",
    "from sklearn.svm import SVR\n",
    "\n",
    "model = MultiOutputRegressor(SVR())\n",
    "model.fit(X_train, y_train)\n",
    "print(model.score(X_train,y_train))"
   ]
  },
  {
   "cell_type": "code",
   "execution_count": 20,
   "id": "fb9fb894",
   "metadata": {},
   "outputs": [
    {
     "data": {
      "text/plain": [
       "array([[2.86058491, 2.87887166, 2.92969528, 2.76360033, 2.77943371,\n",
       "        2.91579594],\n",
       "       [3.2261834 , 3.07675643, 3.37935623, 3.2082381 , 3.1302623 ,\n",
       "        2.94221474],\n",
       "       [3.44805585, 3.39581105, 3.58457457, 3.52229238, 3.26448109,\n",
       "        3.27072029],\n",
       "       ...,\n",
       "       [3.04928009, 2.89481135, 3.03398788, 2.89202542, 2.98556335,\n",
       "        2.75591047],\n",
       "       [3.57147988, 3.17313055, 3.42111813, 3.1578643 , 2.91358643,\n",
       "        3.44073983],\n",
       "       [3.08154698, 3.14305952, 3.3366348 , 3.33043312, 3.45280596,\n",
       "        3.05217526]])"
      ]
     },
     "execution_count": 20,
     "metadata": {},
     "output_type": "execute_result"
    }
   ],
   "source": [
    "y_pred_1 = model.predict(X_test)\n",
    "y_pred_1"
   ]
  },
  {
   "cell_type": "code",
   "execution_count": 21,
   "id": "65e37f5e",
   "metadata": {},
   "outputs": [
    {
     "data": {
      "text/plain": [
       "array([2.5, 3. , 3. , 3. , 2.5, 3. ])"
      ]
     },
     "execution_count": 21,
     "metadata": {},
     "output_type": "execute_result"
    }
   ],
   "source": [
    "y_test[0]"
   ]
  },
  {
   "cell_type": "code",
   "execution_count": 23,
   "id": "1a329533",
   "metadata": {},
   "outputs": [],
   "source": [
    "y_pred_1 = np.round(y_pred_1,2)"
   ]
  },
  {
   "cell_type": "code",
   "execution_count": 25,
   "id": "0f148c0d",
   "metadata": {},
   "outputs": [
    {
     "data": {
      "text/plain": [
       "0.5211728395061725"
      ]
     },
     "execution_count": 25,
     "metadata": {},
     "output_type": "execute_result"
    }
   ],
   "source": [
    "from sklearn.metrics import mean_absolute_error\n",
    "\n",
    "mean_absolute_error(y_test , y_pred_1)"
   ]
  },
  {
   "cell_type": "code",
   "execution_count": 26,
   "id": "c16e4711",
   "metadata": {},
   "outputs": [
    {
     "name": "stdout",
     "output_type": "stream",
     "text": [
      "0.374039543507024\n"
     ]
    }
   ],
   "source": [
    "from sklearn.linear_model import LinearRegression\n",
    "\n",
    "model = MultiOutputRegressor(LinearRegression())\n",
    "model.fit(X_train, y_train)\n",
    "print(model.score(X_train,y_train))"
   ]
  },
  {
   "cell_type": "code",
   "execution_count": 27,
   "id": "aaff5b4d",
   "metadata": {},
   "outputs": [
    {
     "name": "stdout",
     "output_type": "stream",
     "text": [
      "0.22166152169937514\n"
     ]
    }
   ],
   "source": [
    "from sklearn.neighbors import KNeighborsRegressor\n",
    "\n",
    "model = MultiOutputRegressor(KNeighborsRegressor())\n",
    "model.fit(X_train, y_train)\n",
    "print(model.score(X_train,y_train))"
   ]
  },
  {
   "cell_type": "code",
   "execution_count": null,
   "id": "f87a9367",
   "metadata": {},
   "outputs": [],
   "source": []
  }
 ],
 "metadata": {
  "kernelspec": {
   "display_name": "Python 3 (ipykernel)",
   "language": "python",
   "name": "python3"
  },
  "language_info": {
   "codemirror_mode": {
    "name": "ipython",
    "version": 3
   },
   "file_extension": ".py",
   "mimetype": "text/x-python",
   "name": "python",
   "nbconvert_exporter": "python",
   "pygments_lexer": "ipython3",
   "version": "3.9.5"
  }
 },
 "nbformat": 4,
 "nbformat_minor": 5
}
